{
 "cells": [
  {
   "cell_type": "markdown",
   "id": "39818b29",
   "metadata": {},
   "source": [
    "# Lab 8 "
   ]
  },
  {
   "cell_type": "markdown",
   "id": "8f017478",
   "metadata": {},
   "source": [
    "## A1: Calculate Prior Probability for Each Class"
   ]
  },
  {
   "cell_type": "code",
   "execution_count": 5,
   "id": "3868d5ac",
   "metadata": {},
   "outputs": [
    {
     "name": "stdout",
     "output_type": "stream",
     "text": [
      "Prior Probabilities for Each Class:\n",
      "buys_computer\n",
      "yes    0.642857\n",
      "no     0.357143\n",
      "Name: count, dtype: float64\n"
     ]
    }
   ],
   "source": [
    "import pandas as pd\n",
    "\n",
    "# Creating the dataset based on the provided table\n",
    "data = {\n",
    "    'age': ['<=30', '<=30', '31…40', '>40', '>40', '>40', '31…40', '<=30', '<=30', '>40', '<=30', '31…40', '31…40', '>40'],\n",
    "    'income': ['high', 'high', 'high', 'medium', 'low', 'low', 'low', 'medium', 'low', 'medium', 'medium', 'medium', 'high', 'medium'],\n",
    "    'student': ['no', 'no', 'no', 'no', 'yes', 'yes', 'yes', 'no', 'yes', 'yes', 'yes', 'no', 'yes', 'no'],\n",
    "    'credit_rating': ['fair', 'excellent', 'fair', 'fair', 'fair', 'excellent', 'excellent', 'fair', 'fair', 'fair', 'excellent', 'excellent', 'fair', 'excellent'],\n",
    "    'buys_computer': ['no', 'no', 'yes', 'yes', 'yes', 'no', 'yes', 'no', 'yes', 'yes', 'yes', 'yes', 'yes', 'no']\n",
    "}\n",
    "\n",
    "# Convert the dataset to a pandas DataFrame\n",
    "df = pd.DataFrame(data)\n",
    "\n",
    "# Calculating prior probabilities for each class\n",
    "total_data_points = len(df)\n",
    "prior_probabilities = df['buys_computer'].value_counts() / total_data_points\n",
    "\n",
    "# Displaying the prior probabilities\n",
    "print(\"Prior Probabilities for Each Class:\")\n",
    "print(prior_probabilities)"
   ]
  },
  {
   "cell_type": "markdown",
   "id": "1eda1fab",
   "metadata": {},
   "source": [
    "# A2: Class Conditional Densities"
   ]
  },
  {
   "cell_type": "code",
   "execution_count": 6,
   "id": "139536c2",
   "metadata": {},
   "outputs": [
    {
     "name": "stdout",
     "output_type": "stream",
     "text": [
      "Class Conditional Densities:\n",
      "                              age    income   student  credit_rating  \\\n",
      "buys_computer                                                          \n",
      "no            <=30       0.600000       NaN       NaN            NaN   \n",
      "              >40        0.400000       NaN       NaN            NaN   \n",
      "              excellent       NaN       NaN       NaN       0.600000   \n",
      "              fair            NaN       NaN       NaN       0.400000   \n",
      "              high            NaN  0.400000       NaN            NaN   \n",
      "              low             NaN  0.200000       NaN            NaN   \n",
      "              medium          NaN  0.400000       NaN            NaN   \n",
      "              no              NaN       NaN  0.800000            NaN   \n",
      "              yes             NaN       NaN  0.200000            NaN   \n",
      "yes           31…40      0.444444       NaN       NaN            NaN   \n",
      "              <=30       0.222222       NaN       NaN            NaN   \n",
      "              >40        0.333333       NaN       NaN            NaN   \n",
      "              excellent       NaN       NaN       NaN       0.333333   \n",
      "              fair            NaN       NaN       NaN       0.666667   \n",
      "              high            NaN  0.222222       NaN            NaN   \n",
      "              low             NaN  0.333333       NaN            NaN   \n",
      "              medium          NaN  0.444444       NaN            NaN   \n",
      "              no              NaN       NaN  0.333333            NaN   \n",
      "              yes             NaN       NaN  0.666667            NaN   \n",
      "\n",
      "                         buys_computer  \n",
      "buys_computer                           \n",
      "no            <=30                 NaN  \n",
      "              >40                  NaN  \n",
      "              excellent            NaN  \n",
      "              fair                 NaN  \n",
      "              high                 NaN  \n",
      "              low                  NaN  \n",
      "              medium               NaN  \n",
      "              no                   1.0  \n",
      "              yes                  NaN  \n",
      "yes           31…40                NaN  \n",
      "              <=30                 NaN  \n",
      "              >40                  NaN  \n",
      "              excellent            NaN  \n",
      "              fair                 NaN  \n",
      "              high                 NaN  \n",
      "              low                  NaN  \n",
      "              medium               NaN  \n",
      "              no                   NaN  \n",
      "              yes                  1.0  \n"
     ]
    }
   ],
   "source": [
    "# Calculating class conditional probabilities for each feature\n",
    "class_conditional = df.groupby('buys_computer').apply(lambda x: x.apply(lambda y: y.value_counts(normalize=True)))\n",
    "\n",
    "# Displaying the class conditional probabilities\n",
    "print(\"Class Conditional Densities:\")\n",
    "print(class_conditional)"
   ]
  },
  {
   "cell_type": "markdown",
   "id": "61dda4bb",
   "metadata": {},
   "source": [
    "# A3: Test for Independence Between Features"
   ]
  },
  {
   "cell_type": "code",
   "execution_count": 7,
   "id": "85c8cbc4",
   "metadata": {},
   "outputs": [
    {
     "name": "stdout",
     "output_type": "stream",
     "text": [
      "Correlation Matrix (Independence Test):\n",
      "                        age    income       student  credit_rating  \\\n",
      "age            1.000000e+00  0.335410  1.690309e-01  -5.688200e-17   \n",
      "income         3.354102e-01  1.000000  5.669467e-01   1.909407e-01   \n",
      "student        1.690309e-01  0.566947  1.000000e+00   1.602469e-17   \n",
      "credit_rating -5.688200e-17  0.190941  1.602469e-17   1.000000e+00   \n",
      "buys_computer  1.763834e-01  0.197203  4.472136e-01  -2.581989e-01   \n",
      "\n",
      "               buys_computer  \n",
      "age                 0.176383  \n",
      "income              0.197203  \n",
      "student             0.447214  \n",
      "credit_rating      -0.258199  \n",
      "buys_computer       1.000000  \n"
     ]
    }
   ],
   "source": [
    "# Converting categorical data to numerical values for correlation calculation\n",
    "df_encoded = df.apply(lambda x: pd.factorize(x)[0])\n",
    "\n",
    "# Calculating the correlation matrix to check independence\n",
    "correlation_matrix = df_encoded.corr()\n",
    "\n",
    "# Displaying the correlation matrix\n",
    "print(\"Correlation Matrix (Independence Test):\")\n",
    "print(correlation_matrix)"
   ]
  },
  {
   "cell_type": "markdown",
   "id": "85c3916b",
   "metadata": {},
   "source": [
    "## A4: Build Naive-Bayes Classifier for Provided Data"
   ]
  },
  {
   "cell_type": "code",
   "execution_count": 8,
   "id": "882d2c03",
   "metadata": {},
   "outputs": [
    {
     "name": "stdout",
     "output_type": "stream",
     "text": [
      "Naive Bayes Classifier Accuracy: 60.00%\n"
     ]
    }
   ],
   "source": [
    "from sklearn.model_selection import train_test_split\n",
    "from sklearn.naive_bayes import GaussianNB\n",
    "from sklearn.metrics import accuracy_score\n",
    "\n",
    "# Preparing the features and target\n",
    "X = df.drop('buys_computer', axis=1)\n",
    "y = df['buys_computer']\n",
    "\n",
    "# Encoding categorical variables\n",
    "X_encoded = X.apply(lambda x: pd.factorize(x)[0])\n",
    "y_encoded = pd.factorize(y)[0]\n",
    "\n",
    "# Splitting the data into training and test sets\n",
    "X_train, X_test, y_train, y_test = train_test_split(X_encoded, y_encoded, test_size=0.3, random_state=42)\n",
    "\n",
    "# Building and training the Naive Bayes classifier\n",
    "model = GaussianNB()\n",
    "model.fit(X_train, y_train)\n",
    "\n",
    "# Predicting on the test set\n",
    "y_pred = model.predict(X_test)\n",
    "\n",
    "# Evaluating the model\n",
    "accuracy = accuracy_score(y_test, y_pred)\n",
    "print(f\"Naive Bayes Classifier Accuracy: {accuracy * 100:.2f}%\")"
   ]
  },
  {
   "cell_type": "markdown",
   "id": "8c9b74f8",
   "metadata": {},
   "source": [
    "## A5: Build Naive-Bayes Classifier for Obesity Dataset"
   ]
  },
  {
   "cell_type": "code",
   "execution_count": 9,
   "id": "47094b65",
   "metadata": {},
   "outputs": [
    {
     "name": "stdout",
     "output_type": "stream",
     "text": [
      "    Age  Gender  Height  Weight        CALC FAVC  FCVC  NCP  SCC SMOKE  CH2O  \\\n",
      "0  21.0  Female    1.62    64.0          no   no   2.0  3.0   no    no   2.0   \n",
      "1  21.0  Female    1.52    56.0   Sometimes   no   3.0  3.0  yes   yes   3.0   \n",
      "2  23.0    Male    1.80    77.0  Frequently   no   2.0  3.0   no    no   2.0   \n",
      "3  27.0    Male    1.80    87.0  Frequently   no   3.0  3.0   no    no   2.0   \n",
      "4  22.0    Male    1.78    89.8   Sometimes   no   2.0  1.0   no    no   2.0   \n",
      "\n",
      "  family_history_with_overweight  FAF  TUE       CAEC                 MTRANS  \\\n",
      "0                            yes  0.0  1.0  Sometimes  Public_Transportation   \n",
      "1                            yes  3.0  0.0  Sometimes  Public_Transportation   \n",
      "2                            yes  2.0  1.0  Sometimes  Public_Transportation   \n",
      "3                             no  2.0  0.0  Sometimes                Walking   \n",
      "4                             no  0.0  0.0  Sometimes  Public_Transportation   \n",
      "\n",
      "            NObeyesdad  \n",
      "0        Normal_Weight  \n",
      "1        Normal_Weight  \n",
      "2        Normal_Weight  \n",
      "3   Overweight_Level_I  \n",
      "4  Overweight_Level_II  \n",
      "Naive Bayes Classifier Accuracy for Obesity Dataset: 60.57%\n"
     ]
    }
   ],
   "source": [
    "# Load your obesity dataset (replace the file path with the correct one)\n",
    "obesity_data = pd.read_csv('Obesity.csv')\n",
    "\n",
    "# Inspect the dataset\n",
    "print(obesity_data.head())\n",
    "\n",
    "# Assuming 'NObeyesdad' is the target variable (classification target)\n",
    "X_obesity = obesity_data.drop('NObeyesdad', axis=1)\n",
    "y_obesity = obesity_data['NObeyesdad']\n",
    "\n",
    "# Encode categorical columns using LabelEncoder\n",
    "from sklearn.preprocessing import LabelEncoder\n",
    "le = LabelEncoder()\n",
    "\n",
    "for col in X_obesity.select_dtypes(include=['object']).columns:\n",
    "    X_obesity[col] = le.fit_transform(X_obesity[col])\n",
    "\n",
    "# Encode the target column (y_obesity)\n",
    "y_obesity_encoded = le.fit_transform(y_obesity)\n",
    "\n",
    "# Split the dataset into training and testing sets\n",
    "from sklearn.model_selection import train_test_split\n",
    "X_train_obesity, X_test_obesity, y_train_obesity, y_test_obesity = train_test_split(X_obesity, y_obesity_encoded, test_size=0.3, random_state=42)\n",
    "\n",
    "# Train a Naive Bayes classifier on the obesity dataset\n",
    "model_obesity = GaussianNB()\n",
    "model_obesity.fit(X_train_obesity, y_train_obesity)\n",
    "\n",
    "# Predict on the test set and evaluate the model\n",
    "y_pred_obesity = model_obesity.predict(X_test_obesity)\n",
    "accuracy_obesity = accuracy_score(y_test_obesity, y_pred_obesity)\n",
    "\n",
    "print(f\"Naive Bayes Classifier Accuracy for Obesity Dataset: {accuracy_obesity * 100:.2f}%\")"
   ]
  }
 ],
 "metadata": {
  "kernelspec": {
   "display_name": "Python 3 (ipykernel)",
   "language": "python",
   "name": "python3"
  },
  "language_info": {
   "codemirror_mode": {
    "name": "ipython",
    "version": 3
   },
   "file_extension": ".py",
   "mimetype": "text/x-python",
   "name": "python",
   "nbconvert_exporter": "python",
   "pygments_lexer": "ipython3",
   "version": "3.11.5"
  }
 },
 "nbformat": 4,
 "nbformat_minor": 5
}
